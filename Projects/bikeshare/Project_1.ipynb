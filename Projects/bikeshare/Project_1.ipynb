{
 "cells": [
  {
   "cell_type": "markdown",
   "id": "9abd219f",
   "metadata": {},
   "source": [
    "# Project 1: Part 3"
   ]
  },
  {
   "cell_type": "code",
   "execution_count": 78,
   "id": "38987260",
   "metadata": {},
   "outputs": [],
   "source": [
    "# Importing Modules\n",
    "import pandas as pd\n",
    "import matplotlib.pyplot as plt"
   ]
  },
  {
   "cell_type": "markdown",
   "id": "29ef6ad1",
   "metadata": {},
   "source": [
    "## Executive Summary"
   ]
  },
  {
   "cell_type": "markdown",
   "id": "2e2bd053",
   "metadata": {},
   "source": [
    "Here I will summarize the 5 most popular trips that I would call commuter trips and also my recommendations for offers. The reasoning for both of these is outlined througout the rest of the report. The 5 most popular trips that I would call commuter trips are between stations 50 and 61, 65 and 69, 51 and 70, 55 and 70, 50 and 70 in that order. My first recommendation in terms of offers is is a 10 dollar per month commuter plan that allows people to rent bikes between 6am-10am and 3pm-7pm. My second recommendation is to offer 3 free months of membership to all new customers that subscribe to a yearly plan in the cities of San Jose, Palo Alto, Redwood City and Mountain View. My third recommendation is to offer one time ride discounts of 50 cents in the same cities of San Jose, Palo Alto, Redwood City and Mountain View. In addition, we will offer 50 cent discounts on one time trips that start at stations 90, 61, 50, 77, and 2."
   ]
  },
  {
   "cell_type": "markdown",
   "id": "0cc1ee7f",
   "metadata": {},
   "source": [
    "## Data Used"
   ]
  },
  {
   "cell_type": "markdown",
   "id": "2bd3a873",
   "metadata": {},
   "source": [
    "[bikeshare_stations](https://console.cloud.google.com/bigquery?project=bigquery-public-data&d=san_francisco&p=bigquery-public-data&t=bikeshare_stations&page=table&ws=!1m15!1m4!4m3!1sbigquery-public-data!2ssan_francisco!3sbikeshare_status!1m4!4m3!1sbigquery-public-data!2ssan_francisco!3sbikeshare_trips!1m4!4m3!1sbigquery-public-data!2ssan_francisco!3sbikeshare_stations)\n",
    "\n",
    "[bikeshare_trips](https://console.cloud.google.com/bigquery?project=bigquery-public-data&d=san_francisco&p=bigquery-public-data&t=bikeshare_trips&page=table&ws=!1m10!1m4!4m3!1sbigquery-public-data!2ssan_francisco!3sbikeshare_status!1m4!4m3!1sbigquery-public-data!2ssan_francisco!3sbikeshare_trips)\n",
    "\n",
    "[bikeshare_status](https://console.cloud.google.com/bigquery?project=bigquery-public-data&d=san_francisco&p=bigquery-public-data&t=bikeshare_status&page=table&ws=!1m5!1m4!4m3!1sbigquery-public-data!2ssan_francisco!3sbikeshare_status)"
   ]
  },
  {
   "cell_type": "markdown",
   "id": "d84ecc38",
   "metadata": {},
   "source": [
    "## 5 most popular trips that I would call \"commuter trips\"?"
   ]
  },
  {
   "cell_type": "markdown",
   "id": "fe674f6a",
   "metadata": {},
   "source": [
    "There are 2 requirements that I have chosen to define a commuter trip. The first requirement is that the start and end location must be different. This is because if you start and end at the same location then you are not commuting to work. The second requirement I have that defines a commuter trip is that the start time of the trip must be between 6am and 10am, or between 3pm and 7pm. Another thing to consider in the definition of a commuter trip is that starting station and ending station does not matter. By this I mean a trip between two stations will be considered the same regardless of which station you start at. The reason I did this is because one trip is just the reverse commute of the other so to me I see them as the same commuter trip."
   ]
  },
  {
   "cell_type": "code",
   "execution_count": 79,
   "id": "bf971c11",
   "metadata": {},
   "outputs": [
    {
     "name": "stderr",
     "output_type": "stream",
     "text": [
      "Query complete after 0.00s: 100%|██████████| 3/3 [00:00<00:00, 940.78query/s]                         \n",
      "Downloading: 100%|██████████| 5/5 [00:01<00:00,  3.78rows/s]\n"
     ]
    }
   ],
   "source": [
    "%%bigquery popular_commuter_trips\n",
    "\n",
    "# Finding 5 most popular commuter trips by our definition\n",
    "SELECT CASE WHEN start_station_id < end_station_id THEN start_station_id ELSE end_station_id END AS station_1_id,\n",
    "       CASE WHEN start_station_id < end_station_id THEN end_station_id ELSE start_station_id END AS station_2_id,\n",
    "       COUNT(*) as num_trips\n",
    "    FROM `bigquery-public-data.san_francisco.bikeshare_trips`\n",
    "    WHERE start_station_id != end_station_id \n",
    "    AND ((CAST(start_date AS time) BETWEEN CAST('6:00:00'AS time) AND CAST('10:00:00' AS time)) \n",
    "    OR (CAST(start_date AS time) BETWEEN CAST('15:00:00'AS time) AND CAST('19:00:00' AS time)))\n",
    "    GROUP BY station_1_id,station_2_id\n",
    "    ORDER BY num_trips DESC\n",
    "    LIMIT 5"
   ]
  },
  {
   "cell_type": "code",
   "execution_count": 80,
   "id": "43cca9bd",
   "metadata": {},
   "outputs": [
    {
     "data": {
      "text/html": [
       "<div>\n",
       "<style scoped>\n",
       "    .dataframe tbody tr th:only-of-type {\n",
       "        vertical-align: middle;\n",
       "    }\n",
       "\n",
       "    .dataframe tbody tr th {\n",
       "        vertical-align: top;\n",
       "    }\n",
       "\n",
       "    .dataframe thead th {\n",
       "        text-align: right;\n",
       "    }\n",
       "</style>\n",
       "<table border=\"1\" class=\"dataframe\">\n",
       "  <thead>\n",
       "    <tr style=\"text-align: right;\">\n",
       "      <th></th>\n",
       "      <th>station_1_id</th>\n",
       "      <th>station_2_id</th>\n",
       "      <th>num_trips</th>\n",
       "    </tr>\n",
       "  </thead>\n",
       "  <tbody>\n",
       "    <tr>\n",
       "      <th>0</th>\n",
       "      <td>50</td>\n",
       "      <td>61</td>\n",
       "      <td>11838</td>\n",
       "    </tr>\n",
       "    <tr>\n",
       "      <th>1</th>\n",
       "      <td>65</td>\n",
       "      <td>69</td>\n",
       "      <td>10657</td>\n",
       "    </tr>\n",
       "    <tr>\n",
       "      <th>2</th>\n",
       "      <td>51</td>\n",
       "      <td>70</td>\n",
       "      <td>9720</td>\n",
       "    </tr>\n",
       "    <tr>\n",
       "      <th>3</th>\n",
       "      <td>55</td>\n",
       "      <td>70</td>\n",
       "      <td>9676</td>\n",
       "    </tr>\n",
       "    <tr>\n",
       "      <th>4</th>\n",
       "      <td>50</td>\n",
       "      <td>70</td>\n",
       "      <td>9561</td>\n",
       "    </tr>\n",
       "  </tbody>\n",
       "</table>\n",
       "</div>"
      ],
      "text/plain": [
       "   station_1_id  station_2_id  num_trips\n",
       "0            50            61      11838\n",
       "1            65            69      10657\n",
       "2            51            70       9720\n",
       "3            55            70       9676\n",
       "4            50            70       9561"
      ]
     },
     "execution_count": 80,
     "metadata": {},
     "output_type": "execute_result"
    }
   ],
   "source": [
    "popular_commuter_trips"
   ]
  },
  {
   "cell_type": "markdown",
   "id": "0746b379",
   "metadata": {},
   "source": [
    "As you can see, the most popular commuter trip by my definition is between stations 50 and 61. This is followed by commuter trips between stations 65 and 69. The next 3 most popular commuter trips are all between station 70 and 51, 70 and 55, and 70 and 50. This is an interesting finding that station 70 is involved in three of the top five commuter trips. To explore this further we will look at the qurey below which calculates total interactions by station across the dataset. I am counting an interaction as any time someone starts a trip or ends a trip at a particular station."
   ]
  },
  {
   "cell_type": "code",
   "execution_count": 81,
   "id": "fdf6525d",
   "metadata": {},
   "outputs": [
    {
     "name": "stderr",
     "output_type": "stream",
     "text": [
      "Query complete after 0.00s: 100%|██████████| 4/4 [00:00<00:00, 1080.10query/s]                        \n",
      "Downloading: 100%|██████████| 5/5 [00:01<00:00,  3.48rows/s]\n"
     ]
    }
   ],
   "source": [
    "%%bigquery interactions\n",
    "\n",
    "# Finding Total Interactions by Station\n",
    "SELECT DISTINCT start_station_id AS station_id,\n",
    "    COUNT(start_station_id) + COUNT(end_station_id) AS total_interactions\n",
    "    FROM `bigquery-public-data.san_francisco.bikeshare_trips`\n",
    "GROUP BY station_id\n",
    "ORDER BY total_interactions DESC\n",
    "LIMIT 5"
   ]
  },
  {
   "cell_type": "code",
   "execution_count": 82,
   "id": "f4116dcf",
   "metadata": {},
   "outputs": [
    {
     "data": {
      "text/html": [
       "<div>\n",
       "<style scoped>\n",
       "    .dataframe tbody tr th:only-of-type {\n",
       "        vertical-align: middle;\n",
       "    }\n",
       "\n",
       "    .dataframe tbody tr th {\n",
       "        vertical-align: top;\n",
       "    }\n",
       "\n",
       "    .dataframe thead th {\n",
       "        text-align: right;\n",
       "    }\n",
       "</style>\n",
       "<table border=\"1\" class=\"dataframe\">\n",
       "  <thead>\n",
       "    <tr style=\"text-align: right;\">\n",
       "      <th></th>\n",
       "      <th>station_id</th>\n",
       "      <th>total_interactions</th>\n",
       "    </tr>\n",
       "  </thead>\n",
       "  <tbody>\n",
       "    <tr>\n",
       "      <th>0</th>\n",
       "      <td>70</td>\n",
       "      <td>145366</td>\n",
       "    </tr>\n",
       "    <tr>\n",
       "      <th>1</th>\n",
       "      <td>69</td>\n",
       "      <td>112200</td>\n",
       "    </tr>\n",
       "    <tr>\n",
       "      <th>2</th>\n",
       "      <td>50</td>\n",
       "      <td>98124</td>\n",
       "    </tr>\n",
       "    <tr>\n",
       "      <th>3</th>\n",
       "      <td>60</td>\n",
       "      <td>82274</td>\n",
       "    </tr>\n",
       "    <tr>\n",
       "      <th>4</th>\n",
       "      <td>61</td>\n",
       "      <td>79872</td>\n",
       "    </tr>\n",
       "  </tbody>\n",
       "</table>\n",
       "</div>"
      ],
      "text/plain": [
       "   station_id  total_interactions\n",
       "0          70              145366\n",
       "1          69              112200\n",
       "2          50               98124\n",
       "3          60               82274\n",
       "4          61               79872"
      ]
     },
     "execution_count": 82,
     "metadata": {},
     "output_type": "execute_result"
    }
   ],
   "source": [
    "interactions"
   ]
  },
  {
   "cell_type": "markdown",
   "id": "4d9a4f61",
   "metadata": {},
   "source": [
    "You can see that station 70 has the most station interactions. This makes sense considering station 70 is involved in 3 of our 5 most popular commuter trips. It also makes sense that station 50 is involved in 2 of the 5 most popular commuter trips and is also the station with the third most interactions."
   ]
  },
  {
   "cell_type": "markdown",
   "id": "05093cd5",
   "metadata": {},
   "source": [
    "## Recommendations for offers"
   ]
  },
  {
   "cell_type": "markdown",
   "id": "a4d9c853",
   "metadata": {},
   "source": [
    "I would like to first examine which times are most popular for bike trips. In figure 1 below, I look at every hour in the day and check how many trips started at that time. For example, if a trip started at 8:59am the trip would be considered in hour 8 of the day."
   ]
  },
  {
   "cell_type": "code",
   "execution_count": 83,
   "id": "6dfbd9bb",
   "metadata": {},
   "outputs": [
    {
     "name": "stderr",
     "output_type": "stream",
     "text": [
      "Query complete after 0.00s: 100%|██████████| 3/3 [00:00<00:00, 1039.65query/s]                        \n",
      "Downloading: 100%|██████████| 24/24 [00:01<00:00, 16.24rows/s]\n"
     ]
    }
   ],
   "source": [
    "%%bigquery trips_by_hour\n",
    "\n",
    "# Finding total number of trips for each hour in a day\n",
    "SELECT EXTRACT (HOUR FROM start_date) AS hour,COUNT(*) AS num_trips\n",
    "    FROM `bigquery-public-data.san_francisco.bikeshare_trips`\n",
    "    GROUP BY hour\n",
    "    ORDER BY num_trips DESC"
   ]
  },
  {
   "cell_type": "code",
   "execution_count": 84,
   "id": "c85b5901",
   "metadata": {},
   "outputs": [
    {
     "data": {
      "image/png": "[encoded data removed]",
      "text/plain": [
       "<Figure size 1080x576 with 1 Axes>"
      ]
     },
     "metadata": {
      "needs_background": "light"
     },
     "output_type": "display_data"
    }
   ],
   "source": [
    "# Defining x and y for barchart\n",
    "x = trips_by_hour.hour\n",
    "height = trips_by_hour.num_trips\n",
    "\n",
    "# Plotting\n",
    "plt.figure(figsize = (15,8))\n",
    "plt.bar(x,height)\n",
    "plt.title(\"Figure 1: Total Trips by Starting Time\",fontsize = 20)\n",
    "plt.ylabel(\"Number of Trips\",fontsize = 16)\n",
    "plt.xlabel(\"Starting Time (hour in day)\",fontsize = 16)\n",
    "plt.xticks(ticks = x);\n",
    "plt.grid(axis = 'y')"
   ]
  },
  {
   "cell_type": "markdown",
   "id": "6b6726d8",
   "metadata": {},
   "source": [
    "As you can see in figure 1, the two hours that have the most trips are 8am-8:59am and 5pm-5:59pm. This is interesting because these are within the same times that I defined as commuter trips. Figure 1 shows that our largest demographic for people interested in the bikeshare program is commuters. Commuters have a relatively inexpensive option to commute in taking the train. To compete with that, I recommend two suggestions."
   ]
  },
  {
   "cell_type": "markdown",
   "id": "74e0c008",
   "metadata": {},
   "source": [
    "My first suggestion is the \"commuter plan\". Since our target audience is commuters, I propose a discounted plan that allows people to start trips between 6am-10am and 3pm-7pm. This would cost 10 dollars per month as opposed to the standard 13 dollars per month. My second suggestion is providing a discount to the commuter plan if the customer provides proof of discontinuation of a separate public transportation plan. The discount would be three months of a commuter plan free if you show proof of discontinuation of public transport and you commit to a full years worth of membership. This gives our target audience even more incentive to use the bike share as their form of commuting."
   ]
  },
  {
   "cell_type": "markdown",
   "id": "294d9bfd",
   "metadata": {},
   "source": [
    "Next, I would like to make a recommendation on city specific plans. To do this, we will need to understand which cities have the most trips within the dataset. The query below reports the total number of trips that start in specific cities. "
   ]
  },
  {
   "cell_type": "code",
   "execution_count": 85,
   "id": "13a6a1c2",
   "metadata": {},
   "outputs": [
    {
     "name": "stderr",
     "output_type": "stream",
     "text": [
      "Query complete after 0.00s: 100%|██████████| 1/1 [00:00<00:00, 389.41query/s] \n",
      "Downloading: 100%|██████████| 5/5 [00:01<00:00,  3.75rows/s]\n"
     ]
    }
   ],
   "source": [
    "%%bigquery trips_by_city\n",
    "\n",
    "# Finding Total Trips by City\n",
    "SELECT landmark AS city,COUNT(*) AS trips\n",
    "    FROM `bigquery-public-data.san_francisco.bikeshare_trips` table1\n",
    "    JOIN `bigquery-public-data.san_francisco.bikeshare_stations` table2 \n",
    "    ON table1.start_station_id = table2.station_id\n",
    "GROUP BY landmark\n",
    "ORDER BY trips DESC"
   ]
  },
  {
   "cell_type": "code",
   "execution_count": 86,
   "id": "9783a961",
   "metadata": {},
   "outputs": [
    {
     "data": {
      "text/html": [
       "<div>\n",
       "<style scoped>\n",
       "    .dataframe tbody tr th:only-of-type {\n",
       "        vertical-align: middle;\n",
       "    }\n",
       "\n",
       "    .dataframe tbody tr th {\n",
       "        vertical-align: top;\n",
       "    }\n",
       "\n",
       "    .dataframe thead th {\n",
       "        text-align: right;\n",
       "    }\n",
       "</style>\n",
       "<table border=\"1\" class=\"dataframe\">\n",
       "  <thead>\n",
       "    <tr style=\"text-align: right;\">\n",
       "      <th></th>\n",
       "      <th>city</th>\n",
       "      <th>trips</th>\n",
       "    </tr>\n",
       "  </thead>\n",
       "  <tbody>\n",
       "    <tr>\n",
       "      <th>0</th>\n",
       "      <td>San Francisco</td>\n",
       "      <td>891223</td>\n",
       "    </tr>\n",
       "    <tr>\n",
       "      <th>1</th>\n",
       "      <td>San Jose</td>\n",
       "      <td>52861</td>\n",
       "    </tr>\n",
       "    <tr>\n",
       "      <th>2</th>\n",
       "      <td>Mountain View</td>\n",
       "      <td>24679</td>\n",
       "    </tr>\n",
       "    <tr>\n",
       "      <th>3</th>\n",
       "      <td>Palo Alto</td>\n",
       "      <td>9889</td>\n",
       "    </tr>\n",
       "    <tr>\n",
       "      <th>4</th>\n",
       "      <td>Redwood City</td>\n",
       "      <td>4996</td>\n",
       "    </tr>\n",
       "  </tbody>\n",
       "</table>\n",
       "</div>"
      ],
      "text/plain": [
       "            city   trips\n",
       "0  San Francisco  891223\n",
       "1       San Jose   52861\n",
       "2  Mountain View   24679\n",
       "3      Palo Alto    9889\n",
       "4   Redwood City    4996"
      ]
     },
     "execution_count": 86,
     "metadata": {},
     "output_type": "execute_result"
    }
   ],
   "source": [
    "trips_by_city"
   ]
  },
  {
   "cell_type": "markdown",
   "id": "0f633cda",
   "metadata": {},
   "source": [
    "The results above show that there are by far more trips in San Francisco than the other cities combined. This can be viewed as an opportunity to reach a new market. To do this, we will offer a discount for people not in San Francisco. We will offer 3 months free for any new customer who signs up for a yearlong membership in San Jose, Mountain View, Palo Alto, and Redwood City. The hope is that this will introduce many new customers in those cities that we will be able to retain."
   ]
  },
  {
   "cell_type": "markdown",
   "id": "a843eb58",
   "metadata": {},
   "source": [
    "The next aspect I would like to examine is underutilized bike stations. We will evaluate this by looking at which stations have the lowest total trafic per dock count. This means we take the number of trips that start at a station and divide it by the number of docks. This will give us a metric of traffic which is normalized by how large the station is. The query that calculates this is below. For the purposes of this query, we only considered dates after 8/4/16 because that is when the newest station in this dataset was built."
   ]
  },
  {
   "cell_type": "code",
   "execution_count": 87,
   "id": "2a94c0d7",
   "metadata": {},
   "outputs": [
    {
     "name": "stderr",
     "output_type": "stream",
     "text": [
      "Query complete after 0.00s: 100%|██████████| 1/1 [00:00<00:00, 409.84query/s] \n",
      "Downloading: 100%|██████████| 5/5 [00:01<00:00,  3.02rows/s]\n"
     ]
    }
   ],
   "source": [
    "%%bigquery traffic_per_dock\n",
    "\n",
    "# Finding traffic per dock available for all stations\n",
    "SELECT station_id,name,dockcount,landmark AS city,\n",
    "       COUNT(*) AS trips, ROUND(COUNT(*)/dockcount,2) AS total_traffic_per_dock\n",
    "    FROM `bigquery-public-data.san_francisco.bikeshare_trips` table1\n",
    "    JOIN `bigquery-public-data.san_francisco.bikeshare_stations` table2 \n",
    "    ON table1.start_station_id = table2.station_id\n",
    "# Only considering data after installation of newest station\n",
    "WHERE CAST(start_date AS date) > CAST('2016-08-04' AS date )\n",
    "GROUP BY station_id,name,dockcount,landmark\n",
    "ORDER BY total_traffic_per_dock\n",
    "LIMIT 5"
   ]
  },
  {
   "cell_type": "code",
   "execution_count": 88,
   "id": "0625fe0c",
   "metadata": {},
   "outputs": [
    {
     "data": {
      "text/html": [
       "<div>\n",
       "<style scoped>\n",
       "    .dataframe tbody tr th:only-of-type {\n",
       "        vertical-align: middle;\n",
       "    }\n",
       "\n",
       "    .dataframe tbody tr th {\n",
       "        vertical-align: top;\n",
       "    }\n",
       "\n",
       "    .dataframe thead th {\n",
       "        text-align: right;\n",
       "    }\n",
       "</style>\n",
       "<table border=\"1\" class=\"dataframe\">\n",
       "  <thead>\n",
       "    <tr style=\"text-align: right;\">\n",
       "      <th></th>\n",
       "      <th>station_id</th>\n",
       "      <th>name</th>\n",
       "      <th>dockcount</th>\n",
       "      <th>city</th>\n",
       "      <th>trips</th>\n",
       "      <th>total_traffic_per_dock</th>\n",
       "    </tr>\n",
       "  </thead>\n",
       "  <tbody>\n",
       "    <tr>\n",
       "      <th>0</th>\n",
       "      <td>88</td>\n",
       "      <td>5th S. at E. San Salvador St</td>\n",
       "      <td>19</td>\n",
       "      <td>San Jose</td>\n",
       "      <td>3</td>\n",
       "      <td>0.16</td>\n",
       "    </tr>\n",
       "    <tr>\n",
       "      <th>1</th>\n",
       "      <td>30</td>\n",
       "      <td>Middlefield Light Rail Station</td>\n",
       "      <td>15</td>\n",
       "      <td>Mountain View</td>\n",
       "      <td>4</td>\n",
       "      <td>0.27</td>\n",
       "    </tr>\n",
       "    <tr>\n",
       "      <th>2</th>\n",
       "      <td>12</td>\n",
       "      <td>SJSU 4th at San Carlos</td>\n",
       "      <td>19</td>\n",
       "      <td>San Jose</td>\n",
       "      <td>16</td>\n",
       "      <td>0.84</td>\n",
       "    </tr>\n",
       "    <tr>\n",
       "      <th>3</th>\n",
       "      <td>33</td>\n",
       "      <td>Charleston Park/ North Bayshore Area</td>\n",
       "      <td>15</td>\n",
       "      <td>Mountain View</td>\n",
       "      <td>23</td>\n",
       "      <td>1.53</td>\n",
       "    </tr>\n",
       "    <tr>\n",
       "      <th>4</th>\n",
       "      <td>38</td>\n",
       "      <td>Park at Olive</td>\n",
       "      <td>15</td>\n",
       "      <td>Palo Alto</td>\n",
       "      <td>25</td>\n",
       "      <td>1.67</td>\n",
       "    </tr>\n",
       "  </tbody>\n",
       "</table>\n",
       "</div>"
      ],
      "text/plain": [
       "   station_id                                  name  dockcount           city  \\\n",
       "0          88          5th S. at E. San Salvador St         19       San Jose   \n",
       "1          30        Middlefield Light Rail Station         15  Mountain View   \n",
       "2          12                SJSU 4th at San Carlos         19       San Jose   \n",
       "3          33  Charleston Park/ North Bayshore Area         15  Mountain View   \n",
       "4          38                         Park at Olive         15      Palo Alto   \n",
       "\n",
       "   trips  total_traffic_per_dock  \n",
       "0      3                    0.16  \n",
       "1      4                    0.27  \n",
       "2     16                    0.84  \n",
       "3     23                    1.53  \n",
       "4     25                    1.67  "
      ]
     },
     "execution_count": 88,
     "metadata": {},
     "output_type": "execute_result"
    }
   ],
   "source": [
    "traffic_per_dock"
   ]
  },
  {
   "cell_type": "markdown",
   "id": "28b33812",
   "metadata": {},
   "source": [
    "Based on this result, we can see that all stations with the lowest traffic per dock are outside of San Francisco. Since I have already suggested a discount for subscriptions outside of San Francisco, we will double down by offering discounts on one time rides. I suggest that one time rides outside of San Francisco cost two dollars and fifty cents instead of three dollars."
   ]
  },
  {
   "cell_type": "markdown",
   "id": "67e3f797",
   "metadata": {},
   "source": [
    "Another concern we might have is too many bikes getting stuck at a single station. To address this we will look at the stations that average the most bikes available. This is done in the query below."
   ]
  },
  {
   "cell_type": "code",
   "execution_count": 89,
   "id": "bcfd18ee",
   "metadata": {},
   "outputs": [
    {
     "name": "stderr",
     "output_type": "stream",
     "text": [
      "Query complete after 0.00s: 100%|██████████| 1/1 [00:00<00:00, 415.52query/s] \n",
      "Downloading: 100%|██████████| 5/5 [00:01<00:00,  3.43rows/s]\n"
     ]
    }
   ],
   "source": [
    "%%bigquery avg_bikes_available\n",
    "\n",
    "# Finding which stations on average have the most bikes available\n",
    "SELECT station_id,ROUND(AVG(bikes_available),2) AS avg_bikes_available, \n",
    "       ROUND(AVG(docks_available),2) AS avg_docks_available\n",
    "    FROM `bigquery-public-data.san_francisco.bikeshare_status`\n",
    "# Getting rid of data where bikes and docks are both equal to zero\n",
    "WHERE bikes_available > 0 OR docks_available > 0\n",
    "GROUP BY station_id\n",
    "ORDER BY avg_bikes_available DESC\n",
    "LIMIT 5"
   ]
  },
  {
   "cell_type": "code",
   "execution_count": 90,
   "id": "558373c6",
   "metadata": {},
   "outputs": [
    {
     "data": {
      "text/html": [
       "<div>\n",
       "<style scoped>\n",
       "    .dataframe tbody tr th:only-of-type {\n",
       "        vertical-align: middle;\n",
       "    }\n",
       "\n",
       "    .dataframe tbody tr th {\n",
       "        vertical-align: top;\n",
       "    }\n",
       "\n",
       "    .dataframe thead th {\n",
       "        text-align: right;\n",
       "    }\n",
       "</style>\n",
       "<table border=\"1\" class=\"dataframe\">\n",
       "  <thead>\n",
       "    <tr style=\"text-align: right;\">\n",
       "      <th></th>\n",
       "      <th>station_id</th>\n",
       "      <th>avg_bikes_available</th>\n",
       "      <th>avg_docks_available</th>\n",
       "    </tr>\n",
       "  </thead>\n",
       "  <tbody>\n",
       "    <tr>\n",
       "      <th>0</th>\n",
       "      <td>90</td>\n",
       "      <td>16.65</td>\n",
       "      <td>14.35</td>\n",
       "    </tr>\n",
       "    <tr>\n",
       "      <th>1</th>\n",
       "      <td>61</td>\n",
       "      <td>13.40</td>\n",
       "      <td>12.99</td>\n",
       "    </tr>\n",
       "    <tr>\n",
       "      <th>2</th>\n",
       "      <td>50</td>\n",
       "      <td>13.34</td>\n",
       "      <td>9.58</td>\n",
       "    </tr>\n",
       "    <tr>\n",
       "      <th>3</th>\n",
       "      <td>77</td>\n",
       "      <td>12.73</td>\n",
       "      <td>13.65</td>\n",
       "    </tr>\n",
       "    <tr>\n",
       "      <th>4</th>\n",
       "      <td>2</td>\n",
       "      <td>12.68</td>\n",
       "      <td>14.23</td>\n",
       "    </tr>\n",
       "  </tbody>\n",
       "</table>\n",
       "</div>"
      ],
      "text/plain": [
       "   station_id  avg_bikes_available  avg_docks_available\n",
       "0          90                16.65                14.35\n",
       "1          61                13.40                12.99\n",
       "2          50                13.34                 9.58\n",
       "3          77                12.73                13.65\n",
       "4           2                12.68                14.23"
      ]
     },
     "execution_count": 90,
     "metadata": {},
     "output_type": "execute_result"
    }
   ],
   "source": [
    "avg_bikes_available"
   ]
  },
  {
   "cell_type": "markdown",
   "id": "70c3e7b2",
   "metadata": {},
   "source": [
    "We would like to incentivize taking a bikes at a location that has a surplus. To do this, we will offer a 50 cent discount for taking a bike on a one time trip from stations 90, 61, 50, 77, and 2."
   ]
  },
  {
   "cell_type": "markdown",
   "id": "9a29534c",
   "metadata": {},
   "source": [
    "The final offer we would like to investigate is if there is a seasonal discount we should offer. To do this, we will examine the total number of trips taken in this dataset by month. This is done in the query below and the results are plotted in figure 2."
   ]
  },
  {
   "cell_type": "code",
   "execution_count": 91,
   "id": "a0b1d47b",
   "metadata": {},
   "outputs": [
    {
     "name": "stderr",
     "output_type": "stream",
     "text": [
      "Query complete after 0.00s: 100%|██████████| 1/1 [00:00<00:00, 448.64query/s] \n",
      "Downloading: 100%|██████████| 12/12 [00:01<00:00,  8.22rows/s]\n"
     ]
    }
   ],
   "source": [
    "%%bigquery trips_by_month\n",
    "\n",
    "# Finding total number of trips for each month\n",
    "SELECT EXTRACT (MONTH FROM start_date) AS month,COUNT(*) AS num_trips\n",
    "    FROM `bigquery-public-data.san_francisco.bikeshare_trips`\n",
    "    GROUP BY month\n",
    "    ORDER BY num_trips DESC"
   ]
  },
  {
   "cell_type": "code",
   "execution_count": 93,
   "id": "8ffa5e8b",
   "metadata": {},
   "outputs": [
    {
     "data": {
      "image/png": "[encoded data removed]",
      "text/plain": [
       "<Figure size 1080x576 with 1 Axes>"
      ]
     },
     "metadata": {
      "needs_background": "light"
     },
     "output_type": "display_data"
    }
   ],
   "source": [
    "# Defining x and y for barchart\n",
    "x = trips_by_month.month\n",
    "height = trips_by_month.num_trips\n",
    "\n",
    "# Plotting\n",
    "plt.figure(figsize = (15,8))\n",
    "plt.bar(x,height)\n",
    "plt.title(\"Figure 2: Total Trips by Month\",fontsize = 20)\n",
    "plt.ylabel(\"Number of Trips\",fontsize = 16)\n",
    "plt.xlabel(\"Month\",fontsize = 16)\n",
    "plt.xticks(ticks = x);\n",
    "plt.grid(axis = 'y')"
   ]
  },
  {
   "cell_type": "markdown",
   "id": "b9f9640c",
   "metadata": {},
   "source": [
    "As you can see, the trips are highest in the late summer and early fall. However, the difference is not substantial enough in my opinion to offer a discounted rate in the winter. My initial suspicion was that the trips would be substantially higher in the summer compared to winter and we would offer a some sort of discount in the winter. This is not necessary based on the fact that there is only a small difference between seasons in figure 2."
   ]
  }
 ],
 "metadata": {
  "environment": {
   "name": "common-cpu.m78",
   "type": "gcloud",
   "uri": "gcr.io/deeplearning-platform-release/base-cpu:m78"
  },
  "kernelspec": {
   "display_name": "Python 3",
   "language": "python",
   "name": "python3"
  },
  "language_info": {
   "codemirror_mode": {
    "name": "ipython",
    "version": 3
   },
   "file_extension": ".py",
   "mimetype": "text/x-python",
   "name": "python",
   "nbconvert_exporter": "python",
   "pygments_lexer": "ipython3",
   "version": "3.7.10"
  }
 },
 "nbformat": 4,
 "nbformat_minor": 5
}
